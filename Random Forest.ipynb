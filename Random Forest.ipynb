{
 "cells": [
  {
   "cell_type": "code",
   "execution_count": 1,
   "id": "a09c83bc-0737-42e9-9622-9ca62ceacaae",
   "metadata": {},
   "outputs": [
    {
     "name": "stdout",
     "output_type": "stream",
     "text": [
      "Requirement already satisfied: scikit-learn in d:\\anaconda\\lib\\site-packages (1.3.0)Note: you may need to restart the kernel to use updated packages.\n",
      "\n",
      "Requirement already satisfied: numpy>=1.17.3 in d:\\anaconda\\lib\\site-packages (from scikit-learn) (1.24.3)\n",
      "Requirement already satisfied: scipy>=1.5.0 in d:\\anaconda\\lib\\site-packages (from scikit-learn) (1.10.1)\n",
      "Requirement already satisfied: joblib>=1.1.1 in d:\\anaconda\\lib\\site-packages (from scikit-learn) (1.4.0)\n",
      "Requirement already satisfied: threadpoolctl>=2.0.0 in d:\\anaconda\\lib\\site-packages (from scikit-learn) (2.2.0)\n"
     ]
    }
   ],
   "source": [
    "#pip install scikit-learn"
   ]
  },
  {
   "cell_type": "markdown",
   "id": "0b16ac59-8f84-4dc4-a9e5-d9074b8db7e7",
   "metadata": {},
   "source": [
    "### Example: 鳶尾花預測"
   ]
  },
  {
   "cell_type": "code",
   "execution_count": 2,
   "id": "ef42fcfe-0ec4-4c28-98f6-4085a2af6098",
   "metadata": {},
   "outputs": [
    {
     "name": "stdout",
     "output_type": "stream",
     "text": [
      "Accuracy: 1.00\n",
      "Classification Report:\n",
      "              precision    recall  f1-score   support\n",
      "\n",
      "           0       1.00      1.00      1.00        19\n",
      "           1       1.00      1.00      1.00        13\n",
      "           2       1.00      1.00      1.00        13\n",
      "\n",
      "    accuracy                           1.00        45\n",
      "   macro avg       1.00      1.00      1.00        45\n",
      "weighted avg       1.00      1.00      1.00        45\n",
      "\n",
      "Confusion Matrix:\n",
      "[[19  0  0]\n",
      " [ 0 13  0]\n",
      " [ 0  0 13]]\n"
     ]
    }
   ],
   "source": [
    "import numpy as np\n",
    "from sklearn.datasets import load_iris #資料集\n",
    "from sklearn.model_selection import train_test_split #訓練、測試集分割工具\n",
    "from sklearn.ensemble import RandomForestClassifier #RF\n",
    "from sklearn.metrics import accuracy_score, classification_report, confusion_matrix\n",
    "\n",
    "\n",
    "iris = load_iris() # 載入數據集\n",
    "X = iris.data #input\n",
    "y = iris.target #output\n",
    "\n",
    "X_train, X_test, y_train, y_test = train_test_split(X, y, test_size=0.3, random_state=42) # 切分數據集為訓練集和測試集\n",
    "\n",
    "clf = RandomForestClassifier(n_estimators=100, random_state=42) # 初始化RandomForestClassifier\n",
    "\n",
    "clf.fit(X_train, y_train) #訓練模型\n",
    "\n",
    "y_pred = clf.predict(X_test) #預測\n",
    "\n",
    "accuracy = accuracy_score(y_test, y_pred) # 評估模型\n",
    "print(f\"Accuracy: {accuracy:.2f}\")\n",
    "\n",
    "print(\"Classification Report:\")\n",
    "print(classification_report(y_test, y_pred))\n",
    "\n",
    "print(\"Confusion Matrix:\") # 打印混淆矩陣\n",
    "print(confusion_matrix(y_test, y_pred))"
   ]
  },
  {
   "cell_type": "markdown",
   "id": "7e5d8100-47ed-4220-8178-2dda52546fe8",
   "metadata": {},
   "source": [
    "### Example: 股價預測"
   ]
  },
  {
   "cell_type": "code",
   "execution_count": 3,
   "id": "694359a5-80a4-445d-ab47-e8dafb06d9b7",
   "metadata": {},
   "outputs": [
    {
     "name": "stdout",
     "output_type": "stream",
     "text": [
      "[*********************100%%**********************]  1 of 1 completed\n"
     ]
    }
   ],
   "source": [
    "import numpy as np\n",
    "import pandas as pd\n",
    "import yfinance as yf\n",
    "from sklearn.ensemble import RandomForestClassifier\n",
    "from sklearn.model_selection import train_test_split\n",
    "from sklearn.metrics import accuracy_score, classification_report, confusion_matrix\n",
    "\n",
    "# 步驟1：數據收集\n",
    "symbol = 'AAPL'\n",
    "data = yf.download(symbol, start='2020-01-01', end='2023-01-01')\n",
    "\n",
    "# 步驟2：數據預處理\n",
    "data['SMA_10'] = data['Close'].rolling(window=10).mean() #10天滾動平均\n",
    "data['SMA_50'] = data['Close'].rolling(window=50).mean() #50天滾動平均\n",
    "data['Price_Change'] = data['Close'].pct_change() #每日收盤價格變動"
   ]
  },
  {
   "cell_type": "code",
   "execution_count": 5,
   "id": "825ce5f7-4c42-4728-abdf-4df37bda5165",
   "metadata": {},
   "outputs": [
    {
     "name": "stdout",
     "output_type": "stream",
     "text": [
      "Accuracy: 0.52\n",
      "Classification Report:\n",
      "              precision    recall  f1-score   support\n",
      "\n",
      "           0       0.55      0.49      0.51       111\n",
      "           1       0.50      0.56      0.53       102\n",
      "\n",
      "    accuracy                           0.52       213\n",
      "   macro avg       0.52      0.52      0.52       213\n",
      "weighted avg       0.52      0.52      0.52       213\n",
      "\n",
      "Confusion Matrix:\n",
      "[[54 57]\n",
      " [45 57]]\n"
     ]
    }
   ],
   "source": [
    "# 刪除NA值\n",
    "data.dropna(inplace=True)\n",
    "\n",
    "# 步驟3：標籤生成\n",
    "data['Target'] = np.where(data['Close'].shift(-1) > data['Close'], 1, 0) #若true, 賦值1；若false，賦值0\n",
    "\n",
    "# 選擇特徵和目標變量\n",
    "features = ['SMA_10', 'SMA_50', 'Price_Change']\n",
    "X = data[features]\n",
    "y = data['Target']\n",
    "\n",
    "# 切分數據集為訓練集和測試集\n",
    "X_train, X_test, y_train, y_test = train_test_split(X, y, test_size=0.3, random_state=42, shuffle=False)\n",
    "\n",
    "# 步驟4：模型訓練與評估\n",
    "clf = RandomForestClassifier(n_estimators=100, random_state=42)\n",
    "clf.fit(X_train, y_train)\n",
    "y_pred = clf.predict(X_test)\n",
    "\n",
    "# 評估模型\n",
    "accuracy = accuracy_score(y_test, y_pred)\n",
    "print(f\"Accuracy: {accuracy:.2f}\")\n",
    "\n",
    "print(\"Classification Report:\")\n",
    "print(classification_report(y_test, y_pred))\n",
    "\n",
    "print(\"Confusion Matrix:\")\n",
    "print(confusion_matrix(y_test, y_pred))"
   ]
  },
  {
   "cell_type": "code",
   "execution_count": null,
   "id": "c6de3c7d-c6cf-42eb-953d-10d3275c7238",
   "metadata": {},
   "outputs": [],
   "source": []
  }
 ],
 "metadata": {
  "kernelspec": {
   "display_name": "Python 3 (ipykernel)",
   "language": "python",
   "name": "python3"
  },
  "language_info": {
   "codemirror_mode": {
    "name": "ipython",
    "version": 3
   },
   "file_extension": ".py",
   "mimetype": "text/x-python",
   "name": "python",
   "nbconvert_exporter": "python",
   "pygments_lexer": "ipython3",
   "version": "3.11.9"
  }
 },
 "nbformat": 4,
 "nbformat_minor": 5
}
