{
 "cells": [
  {
   "cell_type": "markdown",
   "id": "1669685d",
   "metadata": {},
   "source": [
    "### PMT函數"
   ]
  },
  {
   "cell_type": "code",
   "execution_count": 13,
   "id": "21b7c093",
   "metadata": {},
   "outputs": [],
   "source": [
    "def PMT_func (prin, r, y, points=1):\n",
    "    PMT = (prin * points) * (r/12) * (1/(1 - (1 + r/12)**(-1*y*12)))\n",
    "    return PMT"
   ]
  },
  {
   "cell_type": "code",
   "execution_count": 14,
   "id": "5283e2c2",
   "metadata": {},
   "outputs": [
    {
     "data": {
      "text/plain": [
       "1931.38"
      ]
     },
     "execution_count": 14,
     "metadata": {},
     "output_type": "execute_result"
    }
   ],
   "source": [
    "round(PMT_func(200000, 0.108, 25), 2)"
   ]
  },
  {
   "cell_type": "markdown",
   "id": "e77c4dcb",
   "metadata": {},
   "source": [
    "### Bal函數\n",
    "#### y: 剩餘年數"
   ]
  },
  {
   "cell_type": "code",
   "execution_count": 15,
   "id": "3274cfa5",
   "metadata": {},
   "outputs": [],
   "source": [
    "def Bal_func (PMT, r, y):\n",
    "    Bal = PMT * (12/r) * (1-(1 + r/12)**(-1*y*12))\n",
    "    return Bal"
   ]
  },
  {
   "cell_type": "code",
   "execution_count": 16,
   "id": "3badbfd6",
   "metadata": {},
   "outputs": [
    {
     "data": {
      "text/plain": [
       "171820.29"
      ]
     },
     "execution_count": 16,
     "metadata": {},
     "output_type": "execute_result"
    }
   ],
   "source": [
    "round(Bal_func(1931.38, 0.108, 15), 2)"
   ]
  },
  {
   "cell_type": "markdown",
   "id": "bff666f1",
   "metadata": {},
   "source": [
    "### PV函數\n",
    "#### r: 市場利率\n",
    "#### y: 剩餘年數"
   ]
  },
  {
   "cell_type": "code",
   "execution_count": 19,
   "id": "7b60e32e",
   "metadata": {},
   "outputs": [],
   "source": [
    "def PV_func (PMT, r, y):\n",
    "    PV = PMT * (12/r) * (1-(1 + r/12)**(-1*y*12))\n",
    "    return PV"
   ]
  },
  {
   "cell_type": "code",
   "execution_count": 21,
   "id": "60b837e3",
   "metadata": {},
   "outputs": [
    {
     "data": {
      "text/plain": [
       "228875.32"
      ]
     },
     "execution_count": 21,
     "metadata": {},
     "output_type": "execute_result"
    }
   ],
   "source": [
    "round(PV_func(1931.38, 0.06, 15), 2)"
   ]
  },
  {
   "cell_type": "markdown",
   "id": "4bcd9f38",
   "metadata": {},
   "source": [
    "### 有效利率函數"
   ]
  },
  {
   "cell_type": "code",
   "execution_count": 55,
   "id": "633410a3",
   "metadata": {},
   "outputs": [],
   "source": [
    "def effective_rate_func (prin, pmt, bal, y, points=1, fine=1):\n",
    "    rate = lambda r: pmt * (12/r) * (1-(1+r/12)**(-1*y*12)) + bal * fine * (1+r/12)**(-1*y*12) - prin * points\n",
    "    i = 0.0001\n",
    "    while True:\n",
    "        if rate(round(i, 4)) * rate(round(i+0.0001, 4)) < 0: return round(i, 4)\n",
    "        else: i+=0.0001"
   ]
  },
  {
   "cell_type": "code",
   "execution_count": 56,
   "id": "a1e3a729",
   "metadata": {},
   "outputs": [
    {
     "data": {
      "text/plain": [
       "0.1018"
      ]
     },
     "execution_count": 56,
     "metadata": {},
     "output_type": "execute_result"
    }
   ],
   "source": [
    "effective_rate_func(600000, 5263.43, 545628.18, 10, 1, 1.035)"
   ]
  },
  {
   "cell_type": "markdown",
   "id": "a9d30dd5",
   "metadata": {},
   "source": [
    "### 增量成本函數"
   ]
  },
  {
   "cell_type": "code",
   "execution_count": 100,
   "id": "62f72dd8",
   "metadata": {},
   "outputs": [],
   "source": [
    "def incre_cost_func (incr, pmt1, pmt2, y):\n",
    "    rate1 = lambda r: (pmt1 - pmt2) * (12/r) * (1-(1+r/12)**(-1*y*12)) - incr\n",
    "    i = 0.0001\n",
    "    while True:\n",
    "        if rate1(round(i, 4)) * rate1(round(i+0.0001, 4)) < 0: return round(i, 4)\n",
    "        else: i+=0.0001"
   ]
  },
  {
   "cell_type": "code",
   "execution_count": 101,
   "id": "761491c5",
   "metadata": {},
   "outputs": [
    {
     "data": {
      "text/plain": [
       "0.2166"
      ]
     },
     "execution_count": 101,
     "metadata": {},
     "output_type": "execute_result"
    }
   ],
   "source": [
    "incre_cost_func(105000, 6042.86, 4138.25, 25)"
   ]
  },
  {
   "cell_type": "markdown",
   "id": "e69ce42e",
   "metadata": {},
   "source": [
    "## Q6"
   ]
  },
  {
   "cell_type": "code",
   "execution_count": 17,
   "id": "f1ba3ee3",
   "metadata": {},
   "outputs": [
    {
     "data": {
      "text/plain": [
       "997.95"
      ]
     },
     "execution_count": 17,
     "metadata": {},
     "output_type": "execute_result"
    }
   ],
   "source": [
    "pmt = round(PMT_func(150000, 0.07, 30), 2)\n",
    "pmt"
   ]
  },
  {
   "cell_type": "code",
   "execution_count": 18,
   "id": "89ccd75b",
   "metadata": {},
   "outputs": [
    {
     "data": {
      "text/plain": [
       "141196.86"
      ]
     },
     "execution_count": 18,
     "metadata": {},
     "output_type": "execute_result"
    }
   ],
   "source": [
    "bal = round(Bal_func(pmt, 0.07, 25), 2)\n",
    "bal"
   ]
  },
  {
   "cell_type": "code",
   "execution_count": 20,
   "id": "76096e0a",
   "metadata": {},
   "outputs": [
    {
     "data": {
      "text/plain": [
       "170709.37"
      ]
     },
     "execution_count": 20,
     "metadata": {},
     "output_type": "execute_result"
    }
   ],
   "source": [
    "PV = round(PV_func(pmt, 0.05, 25), 2)\n",
    "PV"
   ]
  },
  {
   "cell_type": "markdown",
   "id": "fa375293",
   "metadata": {},
   "source": [
    "## Q7"
   ]
  },
  {
   "cell_type": "code",
   "execution_count": 70,
   "id": "94e43cb0",
   "metadata": {},
   "outputs": [
    {
     "data": {
      "text/plain": [
       "4402.59"
      ]
     },
     "execution_count": 70,
     "metadata": {},
     "output_type": "execute_result"
    }
   ],
   "source": [
    "pmt = round(PMT_func(600000, 0.08, 30), 2)\n",
    "pmt"
   ]
  },
  {
   "cell_type": "code",
   "execution_count": 71,
   "id": "0e189080",
   "metadata": {},
   "outputs": [
    {
     "data": {
      "text/plain": [
       "526348.53"
      ]
     },
     "execution_count": 71,
     "metadata": {},
     "output_type": "execute_result"
    }
   ],
   "source": [
    "bal = round(Bal_func(pmt, 0.08, 20), 2)\n",
    "bal"
   ]
  },
  {
   "cell_type": "code",
   "execution_count": 72,
   "id": "0bcc6c6d",
   "metadata": {},
   "outputs": [
    {
     "data": {
      "text/plain": [
       "590497.4"
      ]
     },
     "execution_count": 72,
     "metadata": {},
     "output_type": "execute_result"
    }
   ],
   "source": [
    "pv = round(PV_func(pmt, 0.065, 20), 2)\n",
    "pv"
   ]
  },
  {
   "cell_type": "code",
   "execution_count": 73,
   "id": "7cf11119",
   "metadata": {},
   "outputs": [
    {
     "name": "stdout",
     "output_type": "stream",
     "text": [
      "最大願付罰款金額 64148.87\n"
     ]
    }
   ],
   "source": [
    "print(\"最大願付罰款金額\", round(pv - bal, 2))"
   ]
  },
  {
   "cell_type": "code",
   "execution_count": 74,
   "id": "3f5fda98",
   "metadata": {},
   "outputs": [
    {
     "data": {
      "text/plain": [
       "0.0808"
      ]
     },
     "execution_count": 74,
     "metadata": {},
     "output_type": "execute_result"
    }
   ],
   "source": [
    "effective_rate = effective_rate_func(600000, pmt, bal, 10, 1, 1.015)\n",
    "effective_rate"
   ]
  },
  {
   "cell_type": "markdown",
   "id": "87633504",
   "metadata": {},
   "source": [
    "## Q8"
   ]
  },
  {
   "cell_type": "code",
   "execution_count": 78,
   "id": "18a5d865",
   "metadata": {},
   "outputs": [
    {
     "data": {
      "text/plain": [
       "2398.2"
      ]
     },
     "execution_count": 78,
     "metadata": {},
     "output_type": "execute_result"
    }
   ],
   "source": [
    "pmt = round(PMT_func(400000, 0.06, 30), 2)\n",
    "pmt"
   ]
  },
  {
   "cell_type": "code",
   "execution_count": 79,
   "id": "8ccff954",
   "metadata": {},
   "outputs": [
    {
     "data": {
      "text/plain": [
       "372217.1"
      ]
     },
     "execution_count": 79,
     "metadata": {},
     "output_type": "execute_result"
    }
   ],
   "source": [
    "bal = round(Bal_func(pmt, 0.06, 25), 2)\n",
    "bal"
   ]
  },
  {
   "cell_type": "code",
   "execution_count": 81,
   "id": "498677a2",
   "metadata": {},
   "outputs": [
    {
     "data": {
      "text/plain": [
       "0.0624"
      ]
     },
     "execution_count": 81,
     "metadata": {},
     "output_type": "execute_result"
    }
   ],
   "source": [
    "effective_rate = effective_rate_func(400000, pmt, bal, 5, 0.99, 1)\n",
    "effective_rate"
   ]
  },
  {
   "cell_type": "code",
   "execution_count": 82,
   "id": "759f9291",
   "metadata": {},
   "outputs": [
    {
     "data": {
      "text/plain": [
       "2147.29"
      ]
     },
     "execution_count": 82,
     "metadata": {},
     "output_type": "execute_result"
    }
   ],
   "source": [
    "pmt1 = round(PMT_func(400000, 0.05, 30), 2)\n",
    "pmt1"
   ]
  },
  {
   "cell_type": "code",
   "execution_count": 83,
   "id": "c53bfc35",
   "metadata": {},
   "outputs": [
    {
     "data": {
      "text/plain": [
       "410236.2"
      ]
     },
     "execution_count": 83,
     "metadata": {},
     "output_type": "execute_result"
    }
   ],
   "source": [
    "bal1 = round(Bal_func(pmt, 0.05, 25), 2)\n",
    "bal1"
   ]
  },
  {
   "cell_type": "code",
   "execution_count": 84,
   "id": "5d3d195c",
   "metadata": {},
   "outputs": [
    {
     "data": {
      "text/plain": [
       "0.0673"
      ]
     },
     "execution_count": 84,
     "metadata": {},
     "output_type": "execute_result"
    }
   ],
   "source": [
    "effective_rate1 = effective_rate_func(400000, pmt, bal, 5, 0.97, 1)\n",
    "effective_rate1"
   ]
  },
  {
   "cell_type": "markdown",
   "id": "202b0421",
   "metadata": {},
   "source": [
    "## Q9"
   ]
  },
  {
   "cell_type": "code",
   "execution_count": 102,
   "id": "55811cac",
   "metadata": {},
   "outputs": [
    {
     "data": {
      "text/plain": [
       "1394.15"
      ]
     },
     "execution_count": 102,
     "metadata": {},
     "output_type": "execute_result"
    }
   ],
   "source": [
    "pmt1 = round(PMT_func(200000*0.95, 0.08, 30), 2)\n",
    "pmt1"
   ]
  },
  {
   "cell_type": "code",
   "execution_count": 103,
   "id": "b97de547",
   "metadata": {},
   "outputs": [
    {
     "data": {
      "text/plain": [
       "1064.48"
      ]
     },
     "execution_count": 103,
     "metadata": {},
     "output_type": "execute_result"
    }
   ],
   "source": [
    "pmt2 = round(PMT_func(200000*0.8, 0.07, 30), 2)\n",
    "pmt2"
   ]
  },
  {
   "cell_type": "code",
   "execution_count": 104,
   "id": "f6519de7",
   "metadata": {},
   "outputs": [
    {
     "data": {
      "text/plain": [
       "0.129"
      ]
     },
     "execution_count": 104,
     "metadata": {},
     "output_type": "execute_result"
    }
   ],
   "source": [
    "incre_cost_func(30000, pmt1, pmt2, 30)"
   ]
  },
  {
   "cell_type": "markdown",
   "id": "840618fe",
   "metadata": {},
   "source": [
    "## Q10"
   ]
  },
  {
   "cell_type": "code",
   "execution_count": 113,
   "id": "d38878bb",
   "metadata": {},
   "outputs": [
    {
     "data": {
      "text/plain": [
       "6488.45"
      ]
     },
     "execution_count": 113,
     "metadata": {},
     "output_type": "execute_result"
    }
   ],
   "source": [
    "pmt1 = round(PMT_func(320000, 0.08, 5), 2)\n",
    "pmt1"
   ]
  },
  {
   "cell_type": "code",
   "execution_count": 114,
   "id": "2e146f8f",
   "metadata": {},
   "outputs": [
    {
     "data": {
      "text/plain": [
       "7801.75"
      ]
     },
     "execution_count": 114,
     "metadata": {},
     "output_type": "execute_result"
    }
   ],
   "source": [
    "pmt2 = round(PMT_func(313511.55, 0.09, 4), 2)\n",
    "pmt2"
   ]
  },
  {
   "cell_type": "code",
   "execution_count": 115,
   "id": "609889d0",
   "metadata": {},
   "outputs": [
    {
     "data": {
      "text/plain": [
       "9650.51"
      ]
     },
     "execution_count": 115,
     "metadata": {},
     "output_type": "execute_result"
    }
   ],
   "source": [
    "pmt3 = round(PMT_func(305709.8, 0.085, 3), 2)\n",
    "pmt3"
   ]
  },
  {
   "cell_type": "code",
   "execution_count": 116,
   "id": "2447e3b2",
   "metadata": {},
   "outputs": [
    {
     "data": {
      "text/plain": [
       "13457.57"
      ]
     },
     "execution_count": 116,
     "metadata": {},
     "output_type": "execute_result"
    }
   ],
   "source": [
    "pmt4 = round(PMT_func(296059.29, 0.085, 2), 2)\n",
    "pmt4"
   ]
  },
  {
   "cell_type": "code",
   "execution_count": 117,
   "id": "9784aca2",
   "metadata": {},
   "outputs": [
    {
     "data": {
      "text/plain": [
       "24420.05"
      ]
     },
     "execution_count": 117,
     "metadata": {},
     "output_type": "execute_result"
    }
   ],
   "source": [
    "pmt5 = round(PMT_func(282601.72, 0.0675, 1), 2)\n",
    "pmt5"
   ]
  },
  {
   "cell_type": "code",
   "execution_count": null,
   "id": "8647e750",
   "metadata": {},
   "outputs": [],
   "source": []
  }
 ],
 "metadata": {
  "kernelspec": {
   "display_name": "Python 3 (ipykernel)",
   "language": "python",
   "name": "python3"
  },
  "language_info": {
   "codemirror_mode": {
    "name": "ipython",
    "version": 3
   },
   "file_extension": ".py",
   "mimetype": "text/x-python",
   "name": "python",
   "nbconvert_exporter": "python",
   "pygments_lexer": "ipython3",
   "version": "3.11.4"
  }
 },
 "nbformat": 4,
 "nbformat_minor": 5
}
