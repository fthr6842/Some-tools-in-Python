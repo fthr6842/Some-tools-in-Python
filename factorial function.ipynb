{
 "cells": [
  {
   "cell_type": "markdown",
   "id": "5dd75cf9",
   "metadata": {},
   "source": [
    "## Factorial function"
   ]
  },
  {
   "cell_type": "code",
   "execution_count": 1,
   "id": "43637806",
   "metadata": {},
   "outputs": [],
   "source": [
    "def factorial (k):\n",
    "    if  k == 1: return 1\n",
    "    else: return k * factorial(k-1)"
   ]
  },
  {
   "cell_type": "code",
   "execution_count": 2,
   "id": "25fb79cc",
   "metadata": {},
   "outputs": [
    {
     "name": "stdout",
     "output_type": "stream",
     "text": [
      "5! =  120\n"
     ]
    }
   ],
   "source": [
    "if __name__ == \"__main__\":\n",
    "    print(\"5! = \", factorial(5))"
   ]
  }
 ],
 "metadata": {
  "kernelspec": {
   "display_name": "Python 3 (ipykernel)",
   "language": "python",
   "name": "python3"
  },
  "language_info": {
   "codemirror_mode": {
    "name": "ipython",
    "version": 3
   },
   "file_extension": ".py",
   "mimetype": "text/x-python",
   "name": "python",
   "nbconvert_exporter": "python",
   "pygments_lexer": "ipython3",
   "version": "3.11.4"
  }
 },
 "nbformat": 4,
 "nbformat_minor": 5
}
