{
 "cells": [
  {
   "cell_type": "markdown",
   "id": "9ab8c157",
   "metadata": {},
   "source": [
    "## Combination:"
   ]
  },
  {
   "cell_type": "markdown",
   "id": "3f900f55",
   "metadata": {},
   "source": [
    "### Factorial function:"
   ]
  },
  {
   "cell_type": "code",
   "execution_count": 9,
   "id": "ffba40c9",
   "metadata": {},
   "outputs": [],
   "source": [
    "def factorial (k):\n",
    "    if  k == 1: return 1\n",
    "    else: return k * factorial(k-1)"
   ]
  },
  {
   "cell_type": "code",
   "execution_count": 12,
   "id": "3f4e7372",
   "metadata": {},
   "outputs": [],
   "source": [
    "def combination (n, k):\n",
    "    if k == 1 or k == n: return 1\n",
    "    else:\n",
    "        t = n\n",
    "        for i in range(n-k+1, n): t *= i\n",
    "        return int(t / factorial(k))"
   ]
  },
  {
   "cell_type": "markdown",
   "id": "179d6486",
   "metadata": {},
   "source": [
    "#### n: population\n",
    "#### k: # of elements in subset"
   ]
  },
  {
   "cell_type": "code",
   "execution_count": 13,
   "id": "0a155e05",
   "metadata": {},
   "outputs": [
    {
     "name": "stdout",
     "output_type": "stream",
     "text": [
      "780\n"
     ]
    }
   ],
   "source": [
    "if __name__ == \"__main__\":\n",
    "    print(\"C^40_2 = \", combination(40, 2))"
   ]
  }
 ],
 "metadata": {
  "kernelspec": {
   "display_name": "Python 3 (ipykernel)",
   "language": "python",
   "name": "python3"
  },
  "language_info": {
   "codemirror_mode": {
    "name": "ipython",
    "version": 3
   },
   "file_extension": ".py",
   "mimetype": "text/x-python",
   "name": "python",
   "nbconvert_exporter": "python",
   "pygments_lexer": "ipython3",
   "version": "3.11.4"
  }
 },
 "nbformat": 4,
 "nbformat_minor": 5
}
