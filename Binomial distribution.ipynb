{
 "cells": [
  {
   "cell_type": "code",
   "execution_count": 1,
   "id": "91b0cd4a",
   "metadata": {},
   "outputs": [],
   "source": [
    "def factorial (k):\n",
    "    if  k == 1: return 1\n",
    "    else: return k * factorial(k-1)"
   ]
  },
  {
   "cell_type": "code",
   "execution_count": 2,
   "id": "6017b509",
   "metadata": {},
   "outputs": [],
   "source": [
    "def combination (n, k):\n",
    "    if k == 1 or k == n: return 1\n",
    "    else:\n",
    "        t = n\n",
    "        for i in range(n-k+1, n): t *= i\n",
    "        return int(t / factorial(k))"
   ]
  },
  {
   "cell_type": "markdown",
   "id": "b1a9c952",
   "metadata": {},
   "source": [
    "### PDF of Binomial distribution:"
   ]
  },
  {
   "cell_type": "code",
   "execution_count": 3,
   "id": "7842a303",
   "metadata": {},
   "outputs": [],
   "source": [
    "def pdf_of_binomial_distribution (n, k, p): return combination(n, k) * (p**k) * ((1-p)**(n-k))"
   ]
  },
  {
   "cell_type": "code",
   "execution_count": 5,
   "id": "c26cb56d",
   "metadata": {},
   "outputs": [
    {
     "data": {
      "text/plain": [
       "9.094947017729282e-13"
      ]
     },
     "execution_count": 5,
     "metadata": {},
     "output_type": "execute_result"
    }
   ],
   "source": [
    "pdf_of_binomial_distribution(40, 1, 1/2)"
   ]
  },
  {
   "cell_type": "code",
   "execution_count": null,
   "id": "ea5cd7c1",
   "metadata": {},
   "outputs": [],
   "source": []
  }
 ],
 "metadata": {
  "kernelspec": {
   "display_name": "Python 3 (ipykernel)",
   "language": "python",
   "name": "python3"
  },
  "language_info": {
   "codemirror_mode": {
    "name": "ipython",
    "version": 3
   },
   "file_extension": ".py",
   "mimetype": "text/x-python",
   "name": "python",
   "nbconvert_exporter": "python",
   "pygments_lexer": "ipython3",
   "version": "3.11.4"
  }
 },
 "nbformat": 4,
 "nbformat_minor": 5
}
